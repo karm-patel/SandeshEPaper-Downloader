{
 "cells": [
  {
   "cell_type": "code",
   "execution_count": 101,
   "metadata": {},
   "outputs": [],
   "source": [
    "import requests\n",
    "from bs4 import BeautifulSoup\n",
    "from pathlib import Path\n",
    "from datetime import date "
   ]
  },
  {
   "cell_type": "code",
   "execution_count": 109,
   "metadata": {},
   "outputs": [],
   "source": [
    "url = \"https://sandeshepaper.in/\"\n",
    "dist = \"Ahmedabad\""
   ]
  },
  {
   "cell_type": "code",
   "execution_count": 110,
   "metadata": {},
   "outputs": [],
   "source": [
    "#html content of URL\n",
    "webRequest = requests.get(url)\n",
    "webConetnt = webRequest.content\n",
    "soap = BeautifulSoup(webConetnt)"
   ]
  },
  {
   "cell_type": "code",
   "execution_count": 118,
   "metadata": {},
   "outputs": [],
   "source": [
    "sections = soap.find_all(\"section\",{\"class\":\"col-md-4 col-sm-6 epost epost-home\"})"
   ]
  },
  {
   "cell_type": "code",
   "execution_count": 81,
   "metadata": {},
   "outputs": [
    {
     "name": "stdout",
     "output_type": "stream",
     "text": [
      "<a href=\"/edition/72583/ahmedabad\">AHMEDABAD</a>\n"
     ]
    }
   ],
   "source": [
    "for each in sections:\n",
    "    \n",
    "    if each.find('time').contents[0].lower() == dist.lower():\n",
    "        a_tag = each.find(\"a\")\n",
    "        print(a_tag)\n",
    "        break"
   ]
  },
  {
   "cell_type": "code",
   "execution_count": 85,
   "metadata": {},
   "outputs": [
    {
     "name": "stdout",
     "output_type": "stream",
     "text": [
      "72583\n"
     ]
    }
   ],
   "source": [
    "next_address = a_tag.attrs['href']\n",
    "uniq_number = next_address.split(\"/\")[-2]\n",
    "print(uniq_number)\n",
    "download_url = url+\"download/\"+uniq_number\n",
    "nextpage_conetnt = requests.get(download_url).content"
   ]
  },
  {
   "cell_type": "code",
   "execution_count": 87,
   "metadata": {},
   "outputs": [
    {
     "name": "stdout",
     "output_type": "stream",
     "text": [
      "https://sandeshepaper.in/download/72583\n"
     ]
    }
   ],
   "source": [
    "print(download_url)\n",
    "soap = BeautifulSoup(nextpage_conetnt)"
   ]
  },
  {
   "cell_type": "code",
   "execution_count": 92,
   "metadata": {},
   "outputs": [
    {
     "name": "stdout",
     "output_type": "stream",
     "text": [
      "https://cdn-img-sandesh-1.phando.com/2021-02/1614197230.pdf\n"
     ]
    }
   ],
   "source": [
    "a_tags = soap.find_all(\"a\",style=\"text-decoration: none;\")\n",
    "for i in a_tags:\n",
    "    if i.contents[0] == \"Download Full Newspaper\":\n",
    "        pdf_url = i.attrs[\"href\"]\n",
    "        print(pdf_url)\n"
   ]
  },
  {
   "cell_type": "code",
   "execution_count": 99,
   "metadata": {},
   "outputs": [],
   "source": [
    "#respose = requests.get(pdf_url)"
   ]
  },
  {
   "cell_type": "code",
   "execution_count": 106,
   "metadata": {},
   "outputs": [
    {
     "data": {
      "text/plain": [
       "24296089"
      ]
     },
     "execution_count": 106,
     "metadata": {},
     "output_type": "execute_result"
    }
   ],
   "source": [
    "name = \"Sandeh-e-paper\"+str(date.today())+\" by Karm\"\n",
    "filename = Path(name)\n",
    "filename.write_bytes(respose.content)"
   ]
  },
  {
   "cell_type": "code",
   "execution_count": null,
   "metadata": {},
   "outputs": [],
   "source": []
  },
  {
   "cell_type": "code",
   "execution_count": 121,
   "metadata": {},
   "outputs": [],
   "source": [
    "with open(\"dist_list.txt\",'w') as fp:\n",
    "    for each in sections:\n",
    "        try:\n",
    "            d = each.find('time').contents[0].lower()\n",
    "            fp.write(str(d)+\"\\n\")\n",
    "        except:\n",
    "            pass\n"
   ]
  },
  {
   "cell_type": "code",
   "execution_count": null,
   "metadata": {},
   "outputs": [],
   "source": []
  }
 ],
 "metadata": {
  "kernelspec": {
   "display_name": "Python 3",
   "language": "python",
   "name": "python3"
  },
  "language_info": {
   "codemirror_mode": {
    "name": "ipython",
    "version": 3
   },
   "file_extension": ".py",
   "mimetype": "text/x-python",
   "name": "python",
   "nbconvert_exporter": "python",
   "pygments_lexer": "ipython3",
   "version": "3.8.5"
  }
 },
 "nbformat": 4,
 "nbformat_minor": 4
}
